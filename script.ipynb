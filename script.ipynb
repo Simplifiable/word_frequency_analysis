{
 "cells": [
  {
   "cell_type": "code",
   "execution_count": 1,
   "id": "557347ff-feb4-4ad1-9225-baaf25352fc6",
   "metadata": {},
   "outputs": [],
   "source": [
    "import nltk\n",
    "from nltk.corpus import stopwords\n",
    "from collections import Counter\n"
   ]
  },
  {
   "cell_type": "code",
   "execution_count": 2,
   "id": "ea8abd47-0656-4f2b-af53-e9ec7604fd71",
   "metadata": {},
   "outputs": [
    {
     "name": "stderr",
     "output_type": "stream",
     "text": [
      "[nltk_data] Downloading package stopwords to\n",
      "[nltk_data]     C:\\Users\\khale\\AppData\\Roaming\\nltk_data...\n",
      "[nltk_data]   Package stopwords is already up-to-date!\n"
     ]
    },
    {
     "data": {
      "text/plain": [
       "True"
      ]
     },
     "execution_count": 2,
     "metadata": {},
     "output_type": "execute_result"
    }
   ],
   "source": [
    "nltk.download('stopwords')"
   ]
  },
  {
   "cell_type": "code",
   "execution_count": 4,
   "id": "bccc9456-30ae-4859-a7d7-7f6b554edae2",
   "metadata": {},
   "outputs": [],
   "source": [
    "with open('paragraphs.txt', 'r') as f:\n",
    "  text = f.read()"
   ]
  },
  {
   "cell_type": "code",
   "execution_count": 5,
   "id": "39df8bbc-4e18-4718-869e-9bc59420c99f",
   "metadata": {},
   "outputs": [],
   "source": [
    "text = text.lower()"
   ]
  },
  {
   "cell_type": "code",
   "execution_count": 6,
   "id": "90d5e502-bbbd-456e-8f5c-b61af5432377",
   "metadata": {},
   "outputs": [],
   "source": [
    "words = text.split()"
   ]
  },
  {
   "cell_type": "code",
   "execution_count": 7,
   "id": "14367383-a79c-4930-a642-5e163d47ab77",
   "metadata": {},
   "outputs": [],
   "source": [
    "stop_words = stopwords.words('english')\n",
    "words = [word for word in words if word not in stop_words]"
   ]
  },
  {
   "cell_type": "code",
   "execution_count": 8,
   "id": "7638e513-7fd3-4ab7-b74f-ba2d8189741d",
   "metadata": {},
   "outputs": [],
   "source": [
    "word_counts = Counter(words)"
   ]
  },
  {
   "cell_type": "code",
   "execution_count": 9,
   "id": "8a4573da-791b-4427-ae25-1bb4996647db",
   "metadata": {},
   "outputs": [
    {
     "name": "stdout",
     "output_type": "stream",
     "text": [
      "Top 10 Most Frequent Words:\n",
      "also : 3269\n",
      "first : 2912\n",
      "new : 2612\n",
      "one : 2442\n",
      "two : 2107\n",
      "help : 1697\n",
      "it. : 1639\n",
      "article : 1607\n",
      "national : 1571\n",
      "expanding : 1513\n"
     ]
    }
   ],
   "source": [
    "top_n = 10  # Change this to how many words you want to see\n",
    "most_frequent = word_counts.most_common(top_n)\n",
    "print(\"Top\", top_n, \"Most Frequent Words:\")\n",
    "for word, count in most_frequent:\n",
    "  print(word, \":\", count)"
   ]
  },
  {
   "cell_type": "code",
   "execution_count": null,
   "id": "46429b25-b6bd-4cac-b88d-8bb2a7fd2aef",
   "metadata": {},
   "outputs": [],
   "source": []
  }
 ],
 "metadata": {
  "kernelspec": {
   "display_name": "Python 3 (ipykernel)",
   "language": "python",
   "name": "python3"
  },
  "language_info": {
   "codemirror_mode": {
    "name": "ipython",
    "version": 3
   },
   "file_extension": ".py",
   "mimetype": "text/x-python",
   "name": "python",
   "nbconvert_exporter": "python",
   "pygments_lexer": "ipython3",
   "version": "3.11.7"
  }
 },
 "nbformat": 4,
 "nbformat_minor": 5
}
